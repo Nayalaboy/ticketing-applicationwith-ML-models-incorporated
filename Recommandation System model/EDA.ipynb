{
 "cells": [
  {
   "cell_type": "code",
   "execution_count": 22,
   "metadata": {},
   "outputs": [],
   "source": [
    "import pandas as pd\n",
    "import numpy as np\n",
    "import matplotlib\n",
    "import matplotlib.pyplot as plt\n",
    "import seaborn as sns\n",
    "import yfinance as yf\n",
    "from sklearn.model_selection import train_test_split\n",
    "from sklearn.preprocessing import StandardScaler\n",
    "from sklearn.neighbors import KNeighborsClassifier\n",
    "from sklearn.metrics import accuracy_score, classification_report\n",
    "from sklearn.metrics import confusion_matrix, roc_curve, auc\n",
    "from sklearn.utils import resample\n",
    "from sklearn.datasets import fetch_california_housing\n",
    "from statsmodels.stats.outliers_influence import variance_inflation_factor\n",
    "from statsmodels.tools.tools import add_constant\n",
    "from sklearn.linear_model import Ridge\n",
    "from sklearn.metrics import mean_squared_error\n",
    "from sklearn.linear_model import LinearRegression\n",
    "from joblib import dump\n",
    "from io import BytesIO\n",
    "import zipfile\n",
    "import requests\n",
    "import os\n",
    "from sklearn.preprocessing import MinMaxScaler\n",
    "from kaggle.api.kaggle_api_extended import KaggleApi\n",
    "from sklearn.feature_extraction.text import TfidfVectorizer\n",
    "from sklearn.metrics.pairwise import linear_kernel"
   ]
  },
  {
   "cell_type": "code",
   "execution_count": 2,
   "metadata": {},
   "outputs": [],
   "source": [
    "os.makedirs(os.path.join(os.path.expanduser('~'), '.kaggle'), exist_ok=True)"
   ]
  },
  {
   "cell_type": "code",
   "execution_count": 4,
   "metadata": {},
   "outputs": [],
   "source": [
    "os.chmod(os.path.join(os.path.expanduser('~'), '.kaggle', 'kaggle.json'), 600)"
   ]
  },
  {
   "cell_type": "code",
   "execution_count": 21,
   "metadata": {},
   "outputs": [
    {
     "name": "stdout",
     "output_type": "stream",
     "text": [
      "Name: kaggle\n",
      "Version: 1.5.16\n",
      "Summary: Kaggle API\n",
      "Home-page: https://github.com/Kaggle/kaggle-api\n",
      "Author: Kaggle\n",
      "Author-email: support@kaggle.com\n",
      "License: Apache 2.0\n",
      "Location: C:\\Python311\\Lib\\site-packages\n",
      "Requires: bleach, certifi, python-dateutil, python-slugify, requests, six, tqdm, urllib3\n",
      "Required-by: \n"
     ]
    }
   ],
   "source": [
    "!pip show kaggle\n"
   ]
  },
  {
   "cell_type": "code",
   "execution_count": 11,
   "metadata": {},
   "outputs": [],
   "source": [
    "api = KaggleApi()\n",
    "api.authenticate()\n",
    "\n",
    "api.dataset_download_files('asaniczka/amazon-canada-products-2023-2-1m-products', path='./', unzip=True)"
   ]
  },
  {
   "cell_type": "code",
   "execution_count": 15,
   "metadata": {},
   "outputs": [],
   "source": [
    "#load dataset:\n",
    "Amazon_dataset=pd.read_csv(\"amz_ca_total_products_data_processed.csv\")"
   ]
  },
  {
   "cell_type": "markdown",
   "metadata": {},
   "source": [
    "### Dataset preprocessing"
   ]
  },
  {
   "cell_type": "code",
   "execution_count": null,
   "metadata": {},
   "outputs": [
    {
     "data": {
      "text/html": [
       "<div>\n",
       "<style scoped>\n",
       "    .dataframe tbody tr th:only-of-type {\n",
       "        vertical-align: middle;\n",
       "    }\n",
       "\n",
       "    .dataframe tbody tr th {\n",
       "        vertical-align: top;\n",
       "    }\n",
       "\n",
       "    .dataframe thead th {\n",
       "        text-align: right;\n",
       "    }\n",
       "</style>\n",
       "<table border=\"1\" class=\"dataframe\">\n",
       "  <thead>\n",
       "    <tr style=\"text-align: right;\">\n",
       "      <th></th>\n",
       "      <th>asin</th>\n",
       "      <th>title</th>\n",
       "      <th>imgUrl</th>\n",
       "      <th>productURL</th>\n",
       "      <th>stars</th>\n",
       "      <th>reviews</th>\n",
       "      <th>price</th>\n",
       "      <th>listPrice</th>\n",
       "      <th>categoryName</th>\n",
       "      <th>isBestSeller</th>\n",
       "      <th>boughtInLastMonth</th>\n",
       "    </tr>\n",
       "  </thead>\n",
       "  <tbody>\n",
       "    <tr>\n",
       "      <th>635743</th>\n",
       "      <td>B07Y3VCPRN</td>\n",
       "      <td>NaN</td>\n",
       "      <td>https://m.media-amazon.com/images/I/71sd5LpMop...</td>\n",
       "      <td>https://www.amazon.ca/dp/B07Y3VCPRN</td>\n",
       "      <td>4.7</td>\n",
       "      <td>948</td>\n",
       "      <td>52.62</td>\n",
       "      <td>0.0</td>\n",
       "      <td>Boys</td>\n",
       "      <td>False</td>\n",
       "      <td>0</td>\n",
       "    </tr>\n",
       "    <tr>\n",
       "      <th>1186044</th>\n",
       "      <td>B077Z4RBXV</td>\n",
       "      <td>NaN</td>\n",
       "      <td>https://m.media-amazon.com/images/I/71Uh5bhjhT...</td>\n",
       "      <td>https://www.amazon.ca/dp/B077Z4RBXV</td>\n",
       "      <td>4.8</td>\n",
       "      <td>1403</td>\n",
       "      <td>43.47</td>\n",
       "      <td>0.0</td>\n",
       "      <td>Baby</td>\n",
       "      <td>False</td>\n",
       "      <td>0</td>\n",
       "    </tr>\n",
       "    <tr>\n",
       "      <th>1194856</th>\n",
       "      <td>B082DJGQNK</td>\n",
       "      <td>NaN</td>\n",
       "      <td>https://m.media-amazon.com/images/I/81SB1PxL3F...</td>\n",
       "      <td>https://www.amazon.ca/dp/B082DJGQNK</td>\n",
       "      <td>4.8</td>\n",
       "      <td>2388</td>\n",
       "      <td>52.62</td>\n",
       "      <td>0.0</td>\n",
       "      <td>Baby</td>\n",
       "      <td>False</td>\n",
       "      <td>0</td>\n",
       "    </tr>\n",
       "    <tr>\n",
       "      <th>1385629</th>\n",
       "      <td>B07MJT954D</td>\n",
       "      <td>NaN</td>\n",
       "      <td>https://m.media-amazon.com/images/I/718lM2BcJo...</td>\n",
       "      <td>https://www.amazon.ca/dp/B07MJT954D</td>\n",
       "      <td>4.6</td>\n",
       "      <td>5698</td>\n",
       "      <td>57.89</td>\n",
       "      <td>0.0</td>\n",
       "      <td>Baby</td>\n",
       "      <td>False</td>\n",
       "      <td>0</td>\n",
       "    </tr>\n",
       "    <tr>\n",
       "      <th>1606445</th>\n",
       "      <td>B07FMKMXP7</td>\n",
       "      <td>NaN</td>\n",
       "      <td>https://m.media-amazon.com/images/I/718lM2BcJo...</td>\n",
       "      <td>https://www.amazon.ca/dp/B07FMKMXP7</td>\n",
       "      <td>4.6</td>\n",
       "      <td>5695</td>\n",
       "      <td>29.88</td>\n",
       "      <td>0.0</td>\n",
       "      <td>Girls</td>\n",
       "      <td>False</td>\n",
       "      <td>0</td>\n",
       "    </tr>\n",
       "    <tr>\n",
       "      <th>2106084</th>\n",
       "      <td>B07175PTDV</td>\n",
       "      <td>NaN</td>\n",
       "      <td>https://m.media-amazon.com/images/I/31YrpY33G+...</td>\n",
       "      <td>https://www.amazon.ca/dp/B07175PTDV</td>\n",
       "      <td>0.0</td>\n",
       "      <td>0</td>\n",
       "      <td>23.00</td>\n",
       "      <td>0.0</td>\n",
       "      <td>Computer Security Cables</td>\n",
       "      <td>False</td>\n",
       "      <td>0</td>\n",
       "    </tr>\n",
       "  </tbody>\n",
       "</table>\n",
       "</div>"
      ],
      "text/plain": [
       "               asin title                                             imgUrl  \\\n",
       "635743   B07Y3VCPRN   NaN  https://m.media-amazon.com/images/I/71sd5LpMop...   \n",
       "1186044  B077Z4RBXV   NaN  https://m.media-amazon.com/images/I/71Uh5bhjhT...   \n",
       "1194856  B082DJGQNK   NaN  https://m.media-amazon.com/images/I/81SB1PxL3F...   \n",
       "1385629  B07MJT954D   NaN  https://m.media-amazon.com/images/I/718lM2BcJo...   \n",
       "1606445  B07FMKMXP7   NaN  https://m.media-amazon.com/images/I/718lM2BcJo...   \n",
       "2106084  B07175PTDV   NaN  https://m.media-amazon.com/images/I/31YrpY33G+...   \n",
       "\n",
       "                                  productURL  stars  reviews  price  \\\n",
       "635743   https://www.amazon.ca/dp/B07Y3VCPRN    4.7      948  52.62   \n",
       "1186044  https://www.amazon.ca/dp/B077Z4RBXV    4.8     1403  43.47   \n",
       "1194856  https://www.amazon.ca/dp/B082DJGQNK    4.8     2388  52.62   \n",
       "1385629  https://www.amazon.ca/dp/B07MJT954D    4.6     5698  57.89   \n",
       "1606445  https://www.amazon.ca/dp/B07FMKMXP7    4.6     5695  29.88   \n",
       "2106084  https://www.amazon.ca/dp/B07175PTDV    0.0        0  23.00   \n",
       "\n",
       "         listPrice              categoryName  isBestSeller  boughtInLastMonth  \n",
       "635743         0.0                      Boys         False                  0  \n",
       "1186044        0.0                      Baby         False                  0  \n",
       "1194856        0.0                      Baby         False                  0  \n",
       "1385629        0.0                      Baby         False                  0  \n",
       "1606445        0.0                     Girls         False                  0  \n",
       "2106084        0.0  Computer Security Cables         False                  0  "
      ]
     },
     "execution_count": 3,
     "metadata": {},
     "output_type": "execute_result"
    }
   ],
   "source": [
    "## check for null values\n",
    "Amazon_dataset.isnull().sum()\n",
    "Amazon_dataset[Amazon_dataset['title'].isnull()]"
   ]
  },
  {
   "cell_type": "code",
   "execution_count": 19,
   "metadata": {},
   "outputs": [],
   "source": [
    "## Encoding isBestSeller. There is 266 category name, so I won't encode them\n",
    "Amazon_dataset['isBestSeller']=Amazon_dataset['isBestSeller'].astype(int)\n",
    "numb_categoryName=Amazon_dataset['categoryName'].nunique()\n"
   ]
  },
  {
   "cell_type": "markdown",
   "metadata": {},
   "source": [
    "### Content-based recommendation model"
   ]
  },
  {
   "cell_type": "code",
   "execution_count": 23,
   "metadata": {},
   "outputs": [],
   "source": [
    "## Scale numerical features\n",
    "\n",
    "scaler=MinMaxScaler()\n",
    "Amazon_dataset['reviews_normalized']=scaler.fit_transform(Amazon_dataset[['reviews']])\n",
    "Amazon_dataset['stars_normalized']=scaler.fit_transform(Amazon_dataset[['stars']])\n"
   ]
  },
  {
   "cell_type": "code",
   "execution_count": 31,
   "metadata": {},
   "outputs": [
    {
     "name": "stdout",
     "output_type": "stream",
     "text": [
      "0          0.003310\n",
      "1          0.000063\n",
      "2          0.000145\n",
      "3          0.002228\n",
      "4          0.000053\n",
      "             ...   \n",
      "2165921    0.000000\n",
      "2165922    0.000000\n",
      "2165923    0.000000\n",
      "2165924    0.000000\n",
      "2165925    0.000000\n",
      "Name: reviews_normalized, Length: 2165926, dtype: float64\n"
     ]
    }
   ],
   "source": [
    "print(Amazon_dataset['reviews_normalized'])"
   ]
  },
  {
   "cell_type": "code",
   "execution_count": 39,
   "metadata": {},
   "outputs": [],
   "source": [
    "\n",
    "\n",
    "## Convert numerical data to string\n",
    "Amazon_dataset['reviews_str']=Amazon_dataset['reviews_normalized'].apply(lambda x: 'reviews_' + str(int(x*10000)) )\n",
    "Amazon_dataset['stars_str']=Amazon_dataset['stars_normalized'].apply(lambda x: 'stars_' + str(int(x*10)) )\n",
    "\n"
   ]
  },
  {
   "cell_type": "code",
   "execution_count": 40,
   "metadata": {},
   "outputs": [
    {
     "name": "stdout",
     "output_type": "stream",
     "text": [
      "0          stars_88\n",
      "1          stars_76\n",
      "2          stars_80\n",
      "3          stars_90\n",
      "4          stars_84\n",
      "             ...   \n",
      "2165921     stars_0\n",
      "2165922     stars_0\n",
      "2165923     stars_0\n",
      "2165924     stars_0\n",
      "2165925     stars_0\n",
      "Name: stars_str, Length: 2165926, dtype: object\n"
     ]
    }
   ],
   "source": [
    "#print(Amazon_dataset['stars_str'])"
   ]
  },
  {
   "cell_type": "code",
   "execution_count": 47,
   "metadata": {},
   "outputs": [
    {
     "name": "stdout",
     "output_type": "stream",
     "text": [
      "0    Green Leaf WW3D Wonder Extension Cord Winder, ...\n",
      "1    8pcs Toilet Seat Bumpers Universal Toilet Repl...\n",
      "2    YaeCCC 19 Pcs Hole Saw Kit 3/4''(19mm)- 6''(15...\n",
      "3    LLPT Butyl Putty Tape White 1 Inch x 33Ft Tigh...\n",
      "4    Lightbeam 16\" Long Stem Deep Fry Thermometer w...\n",
      "Name: feature_combined, dtype: object\n"
     ]
    }
   ],
   "source": [
    "## Combined features\n",
    "\n",
    "#Amazon_dataset['feature_combined']=Amazon_dataset['title'] + ' ' + Amazon_dataset['categoryName'] + ' ' + Amazon_dataset['reviews_str'] + ' ' + Amazon_dataset['stars_str']\n",
    "Amazon_dataset['feature_combined']=Amazon_dataset['feature_combined'].fillna(' ')\n",
    "print(Amazon_dataset['feature_combined'].head())\n"
   ]
  },
  {
   "cell_type": "code",
   "execution_count": 48,
   "metadata": {},
   "outputs": [],
   "source": [
    "tfidf = TfidfVectorizer(stop_words='english')\n",
    "tfidf_matrix = tfidf.fit_transform(Amazon_dataset['feature_combined'])"
   ]
  },
  {
   "cell_type": "code",
   "execution_count": 50,
   "metadata": {},
   "outputs": [],
   "source": [
    "# Compute the cosine similarity matrix\n",
    "cosine_sim = linear_kernel(tfidf_matrix, tfidf_matrix)"
   ]
  }
 ],
 "metadata": {
  "kernelspec": {
   "display_name": "Python 3",
   "language": "python",
   "name": "python3"
  },
  "language_info": {
   "codemirror_mode": {
    "name": "ipython",
    "version": 3
   },
   "file_extension": ".py",
   "mimetype": "text/x-python",
   "name": "python",
   "nbconvert_exporter": "python",
   "pygments_lexer": "ipython3",
   "version": "3.11.4"
  }
 },
 "nbformat": 4,
 "nbformat_minor": 2
}
